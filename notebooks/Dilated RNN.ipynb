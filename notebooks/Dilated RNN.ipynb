{
 "cells": [
  {
   "cell_type": "code",
   "execution_count": 4,
   "metadata": {
    "collapsed": true
   },
   "outputs": [],
   "source": [
    "import tensorflow as tf\n",
    "from tensorflow.contrib import rnn"
   ]
  },
  {
   "cell_type": "code",
   "execution_count": 40,
   "metadata": {
    "collapsed": false,
    "scrolled": false
   },
   "outputs": [
    {
     "name": "stdout",
     "output_type": "stream",
     "text": [
      "(100, 200)\n",
      "ERROR:tensorflow:==================================\n",
      "Object was never used (type <class 'tensorflow.python.ops.tensor_array_ops.TensorArray'>):\n",
      "<tensorflow.python.ops.tensor_array_ops.TensorArray object at 0x120050d68>\n",
      "If you want to mark it as used call its \"mark_used()\" method.\n",
      "It was originally created here:\n",
      "['File \"/Library/Frameworks/Python.framework/Versions/3.6/lib/python3.6/runpy.py\", line 193, in _run_module_as_main\\n    \"__main__\", mod_spec)', 'File \"/Library/Frameworks/Python.framework/Versions/3.6/lib/python3.6/runpy.py\", line 85, in _run_code\\n    exec(code, run_globals)', 'File \"/Users/marekgalovic/.virtualenvs/data/lib/python3.6/site-packages/ipykernel/__main__.py\", line 3, in <module>\\n    app.launch_new_instance()', 'File \"/Users/marekgalovic/.virtualenvs/data/lib/python3.6/site-packages/traitlets/config/application.py\", line 658, in launch_instance\\n    app.start()', 'File \"/Users/marekgalovic/.virtualenvs/data/lib/python3.6/site-packages/ipykernel/kernelapp.py\", line 474, in start\\n    ioloop.IOLoop.instance().start()', 'File \"/Users/marekgalovic/.virtualenvs/data/lib/python3.6/site-packages/zmq/eventloop/ioloop.py\", line 177, in start\\n    super(ZMQIOLoop, self).start()', 'File \"/Users/marekgalovic/.virtualenvs/data/lib/python3.6/site-packages/tornado/ioloop.py\", line 887, in start\\n    handler_func(fd_obj, events)', 'File \"/Users/marekgalovic/.virtualenvs/data/lib/python3.6/site-packages/tornado/stack_context.py\", line 275, in null_wrapper\\n    return fn(*args, **kwargs)', 'File \"/Users/marekgalovic/.virtualenvs/data/lib/python3.6/site-packages/zmq/eventloop/zmqstream.py\", line 440, in _handle_events\\n    self._handle_recv()', 'File \"/Users/marekgalovic/.virtualenvs/data/lib/python3.6/site-packages/zmq/eventloop/zmqstream.py\", line 472, in _handle_recv\\n    self._run_callback(callback, msg)', 'File \"/Users/marekgalovic/.virtualenvs/data/lib/python3.6/site-packages/zmq/eventloop/zmqstream.py\", line 414, in _run_callback\\n    callback(*args, **kwargs)', 'File \"/Users/marekgalovic/.virtualenvs/data/lib/python3.6/site-packages/tornado/stack_context.py\", line 275, in null_wrapper\\n    return fn(*args, **kwargs)', 'File \"/Users/marekgalovic/.virtualenvs/data/lib/python3.6/site-packages/ipykernel/kernelbase.py\", line 276, in dispatcher\\n    return self.dispatch_shell(stream, msg)', 'File \"/Users/marekgalovic/.virtualenvs/data/lib/python3.6/site-packages/ipykernel/kernelbase.py\", line 228, in dispatch_shell\\n    handler(stream, idents, msg)', 'File \"/Users/marekgalovic/.virtualenvs/data/lib/python3.6/site-packages/ipykernel/kernelbase.py\", line 390, in execute_request\\n    user_expressions, allow_stdin)', 'File \"/Users/marekgalovic/.virtualenvs/data/lib/python3.6/site-packages/ipykernel/ipkernel.py\", line 196, in do_execute\\n    res = shell.run_cell(code, store_history=store_history, silent=silent)', 'File \"/Users/marekgalovic/.virtualenvs/data/lib/python3.6/site-packages/ipykernel/zmqshell.py\", line 501, in run_cell\\n    return super(ZMQInteractiveShell, self).run_cell(*args, **kwargs)', 'File \"/Users/marekgalovic/.virtualenvs/data/lib/python3.6/site-packages/IPython/core/interactiveshell.py\", line 2717, in run_cell\\n    interactivity=interactivity, compiler=compiler, result=result)', 'File \"/Users/marekgalovic/.virtualenvs/data/lib/python3.6/site-packages/IPython/core/interactiveshell.py\", line 2821, in run_ast_nodes\\n    if self.run_code(code, result):', 'File \"/Users/marekgalovic/.virtualenvs/data/lib/python3.6/site-packages/IPython/core/interactiveshell.py\", line 2881, in run_code\\n    exec(code_obj, self.user_global_ns, self.user_ns)', 'File \"<ipython-input-40-998c805c430e>\", line 66, in <module>\\n    print(dilated_dynamic_rnn(cell, inputs, [1, 2], dtype=tf.float32))', 'File \"<ipython-input-40-998c805c430e>\", line 49, in dilated_dynamic_rnn\\n    swap_memory = swap_memory', 'File \"/Users/marekgalovic/.virtualenvs/data/lib/python3.6/site-packages/tensorflow/python/ops/control_flow_ops.py\", line 2775, in while_loop\\n    result = context.BuildLoop(cond, body, loop_vars, shape_invariants)', 'File \"/Users/marekgalovic/.virtualenvs/data/lib/python3.6/site-packages/tensorflow/python/ops/control_flow_ops.py\", line 2604, in BuildLoop\\n    pred, body, original_loop_vars, loop_vars, shape_invariants)', 'File \"/Users/marekgalovic/.virtualenvs/data/lib/python3.6/site-packages/tensorflow/python/ops/control_flow_ops.py\", line 2554, in _BuildLoop\\n    body_result = body(*packed_vars_for_body)', 'File \"<ipython-input-40-998c805c430e>\", line 38, in _time_step\\n    output_ta.write(time, output)', 'File \"/Users/marekgalovic/.virtualenvs/data/lib/python3.6/site-packages/tensorflow/python/util/tf_should_use.py\", line 175, in wrapped\\n    return _add_should_use_warning(fn(*args, **kwargs))', 'File \"/Users/marekgalovic/.virtualenvs/data/lib/python3.6/site-packages/tensorflow/python/util/tf_should_use.py\", line 144, in _add_should_use_warning\\n    wrapped = TFShouldUseWarningWrapper(x)', 'File \"/Users/marekgalovic/.virtualenvs/data/lib/python3.6/site-packages/tensorflow/python/util/tf_should_use.py\", line 101, in __init__\\n    stack = [s.strip() for s in traceback.format_stack()]']\n",
      "==================================\n",
      "(<tf.Tensor 'transpose_1:0' shape=(64, ?, 200) dtype=float32>, (<tf.Tensor 'while/Exit_2:0' shape=(?, 100) dtype=float32>, <tf.Tensor 'while/Exit_3:0' shape=(?, 200) dtype=float32>))\n"
     ]
    }
   ],
   "source": [
    "def dilated_dynamic_rnn(cell, inputs, rates, sequence_length=None, initial_state=None, dtype=None, time_major=False, parallel_iterations=32, swap_memory=False):\n",
    "    assert isinstance(cell, rnn.MultiRNNCell), 'param :cell has to be a MultiRNNCell instance.'\n",
    "    if not time_major:\n",
    "        inputs = tf.transpose(inputs, [1,0,2])\n",
    "        \n",
    "    max_time, batch_size, input_dim = tf.unstack(tf.shape(inputs))\n",
    "    \n",
    "    input_ta = tf.TensorArray(dtype=tf.float32, size=max_time)\\\n",
    "        .unstack(inputs)\n",
    "        \n",
    "    output_ta = tf.TensorArray(dtype=tf.float32, size=max_time)\n",
    "    \n",
    "    states_ta = [tf.TensorArray(dtype=tf.float32, size=rate) for rate in rates]\n",
    "        \n",
    "    if initial_state is not None:\n",
    "        state = initial_state\n",
    "    else:\n",
    "        assert dtype is not None, '`dtype` must be provided when `initial_state`=None'\n",
    "        state = cell.zero_state(batch_size, dtype)\n",
    "    \n",
    "    def _rnn_step():\n",
    "        pass\n",
    "    \n",
    "    def _set_state(time, rate, states_ta):\n",
    "        pass\n",
    "    \n",
    "    def _get_state(time, rate, states_ta):\n",
    "        pass\n",
    "        \n",
    "    def _time_step(time, output_ta, state, states_ta):\n",
    "        print(cell.state_size)\n",
    "        call_cell = lambda: cell(input_ta.read(time), state)\n",
    "        \n",
    "        if sequence_length is not None:\n",
    "            pass\n",
    "        else:\n",
    "            (output, new_state) = call_cell()\n",
    "        \n",
    "        output_ta.write(time, output)\n",
    "            \n",
    "        return (time + 1, output_ta, new_state, states_ta)\n",
    "    \n",
    "    time = tf.constant(0, dtype=tf.int32)\n",
    "        \n",
    "    _, output_final_ta, final_state, _ = tf.while_loop(\n",
    "        cond = lambda time, *_: time < max_time,\n",
    "        body = _time_step,\n",
    "        loop_vars = (time, output_ta, state, states_ta),\n",
    "        parallel_iterations = parallel_iterations,\n",
    "        swap_memory = swap_memory\n",
    "    )\n",
    "    \n",
    "    outputs = output_final_ta.stack()\n",
    "    if not time_major:\n",
    "        outputs = tf.transpose(outputs, [1,0,2])\n",
    "        \n",
    "    return outputs, final_state\n",
    "        \n",
    "with tf.Graph().as_default():\n",
    "    inputs = tf.placeholder(tf.float32, [64, 12, 300])\n",
    "    \n",
    "    cell = rnn.MultiRNNCell([\n",
    "        rnn.GRUCell(100),\n",
    "        rnn.GRUCell(200)\n",
    "    ])\n",
    "    \n",
    "    print(dilated_dynamic_rnn(cell, inputs, [1, 2], dtype=tf.float32))\n",
    "    \n",
    "        \n",
    "    \n",
    "    "
   ]
  }
 ],
 "metadata": {
  "kernelspec": {
   "display_name": "Python 3",
   "language": "python",
   "name": "python3"
  },
  "language_info": {
   "codemirror_mode": {
    "name": "ipython",
    "version": 3
   },
   "file_extension": ".py",
   "mimetype": "text/x-python",
   "name": "python",
   "nbconvert_exporter": "python",
   "pygments_lexer": "ipython3",
   "version": "3.6.0"
  }
 },
 "nbformat": 4,
 "nbformat_minor": 2
}
