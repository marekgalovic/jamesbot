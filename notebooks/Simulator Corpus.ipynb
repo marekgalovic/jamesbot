{
 "cells": [
  {
   "cell_type": "code",
   "execution_count": 32,
   "metadata": {
    "collapsed": true
   },
   "outputs": [],
   "source": [
    "import json\n",
    "import numpy as np\n",
    "from collections import Counter"
   ]
  },
  {
   "cell_type": "code",
   "execution_count": 2,
   "metadata": {
    "collapsed": true
   },
   "outputs": [],
   "source": [
    "samples = json.load(open('../jamesbot/data/processed/user_simulator/samples.json', 'r'))"
   ]
  },
  {
   "cell_type": "code",
   "execution_count": 129,
   "metadata": {
    "collapsed": false
   },
   "outputs": [],
   "source": [
    "action_messages = {}\n",
    "dialog_templates = []\n",
    "\n",
    "for sample in samples:\n",
    "    dialog_constraints = {}\n",
    "    dialog_requests = set()\n",
    "    for turn in sample:\n",
    "        if turn['author'] != 'user':\n",
    "            continue\n",
    "        text = turn['text']\n",
    "\n",
    "        for (slot, value) in turn['slot_values'].items():\n",
    "            if slot not in {'intent'}:\n",
    "                text = text.replace(str(value), '<SLOT.'+slot+'>')\n",
    "                \n",
    "                if slot not in dialog_constraints:\n",
    "                    dialog_constraints[slot] = []\n",
    "                \n",
    "                if len(dialog_constraints[slot]) > 0:\n",
    "                    if not dialog_constraints[slot][-1] == value:\n",
    "                        dialog_constraints[slot].append(value)\n",
    "                else:\n",
    "                    dialog_constraints[slot].append(value)\n",
    "                    \n",
    "        actions, action_slots = set(), set()\n",
    "        for (action, slots) in turn['action_slots'].items():\n",
    "            actions.add(action)\n",
    "            action_slots = action_slots.union(set(slots))\n",
    "            if action == 'request':\n",
    "                dialog_requests = dialog_requests.union(set(slots))\n",
    "        action_key = '&'.join(sorted(actions))+'.'+'&'.join(sorted(action_slots))\n",
    "        \n",
    "        if action_key not in action_messages:\n",
    "            action_messages[action_key] = Counter()\n",
    "        \n",
    "        action_messages[action_key][text] += 1\n",
    "    \n",
    "    dialog_templates.append({\n",
    "        'constraints': dialog_constraints,\n",
    "        'requests': list(dialog_requests)\n",
    "    })\n",
    "\n",
    "templates = {}\n",
    "\n",
    "for (action, messages) in action_messages.items():\n",
    "    templates[str(action)] = list(map(lambda m: m[0], messages.most_common(10)))\n",
    "    \n",
    "with open('../jamesbot/data/processed/user_simulator/message_templates.json', 'w') as f:\n",
    "    json.dump(templates, f)\n",
    "\n",
    "with open('../jamesbot/data/processed/user_simulator/dialog_templates.json', 'w') as f:\n",
    "    json.dump(dialog_templates, f)"
   ]
  },
  {
   "cell_type": "code",
   "execution_count": 130,
   "metadata": {
    "collapsed": false
   },
   "outputs": [
    {
     "data": {
      "text/plain": [
       "1369"
      ]
     },
     "execution_count": 130,
     "metadata": {},
     "output_type": "execute_result"
    }
   ],
   "source": [
    "len(dialog_templates)"
   ]
  }
 ],
 "metadata": {
  "kernelspec": {
   "display_name": "Python 3",
   "language": "python",
   "name": "python3"
  },
  "language_info": {
   "codemirror_mode": {
    "name": "ipython",
    "version": 3
   },
   "file_extension": ".py",
   "mimetype": "text/x-python",
   "name": "python",
   "nbconvert_exporter": "python",
   "pygments_lexer": "ipython3",
   "version": "3.6.0"
  }
 },
 "nbformat": 4,
 "nbformat_minor": 2
}
