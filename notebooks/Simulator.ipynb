{
 "cells": [
  {
   "cell_type": "code",
   "execution_count": 1,
   "metadata": {
    "collapsed": true,
    "deletable": true,
    "editable": true
   },
   "outputs": [],
   "source": [
    "import numpy as np\n",
    "import json"
   ]
  },
  {
   "cell_type": "code",
   "execution_count": 2,
   "metadata": {
    "collapsed": false,
    "deletable": true,
    "editable": true
   },
   "outputs": [],
   "source": [
    "from jamesbot.utils.embeddings import EmbeddingHandler\n",
    "from jamesbot.slot_parser import SlotParser"
   ]
  },
  {
   "cell_type": "code",
   "execution_count": 3,
   "metadata": {
    "collapsed": true,
    "deletable": true,
    "editable": true
   },
   "outputs": [],
   "source": [
    "embeddings = np.array(json.load(open('../jamesbot/data/processed/user_simulator/glove_embeddings.json', 'r')))\n",
    "glove_dict = json.load(open('../jamesbot/data/processed/user_simulator/glove_dict.json', 'r'))\n",
    "labels_dict = json.load(open('../jamesbot/data/processed/user_simulator/labels_dict.json', 'r'))\n",
    "slots_dict = json.load(open('../jamesbot/data/processed/user_simulator/slots_dict.json', 'r'))\n",
    "actions_dict = json.load(open('../jamesbot/data/processed/user_simulator/actions_dict.json', 'r'))\n",
    "samples_embedded = json.load(open('../jamesbot/data/processed/user_simulator/samples_embedded.json', 'r'))\n",
    "samples_data = json.load(open('../jamesbot/data/processed/user_simulator/samples.json', 'r'))\n",
    "dialog_templates = json.load(open('../jamesbot/data/processed/user_simulator/dialog_templates.json', 'r'))\n",
    "message_templates = json.load(open('../jamesbot/data/processed/user_simulator/message_templates.json', 'r'))"
   ]
  },
  {
   "cell_type": "code",
   "execution_count": 4,
   "metadata": {
    "collapsed": true,
    "deletable": true,
    "editable": true
   },
   "outputs": [],
   "source": [
    "token_embeddings = EmbeddingHandler(glove_dict)\n",
    "label_embeddings = EmbeddingHandler(labels_dict)\n",
    "slot_embeddings = EmbeddingHandler(slots_dict)\n",
    "action_embeddings = EmbeddingHandler(actions_dict)"
   ]
  },
  {
   "cell_type": "code",
   "execution_count": 5,
   "metadata": {
    "collapsed": false,
    "deletable": true,
    "editable": true
   },
   "outputs": [
    {
     "name": "stdout",
     "output_type": "stream",
     "text": [
      "SlotParserModel:\n",
      "Embeddings: [4320, 300]\n",
      "IOB labels: 51\n",
      "Present slots: 50\n",
      "Actions: 16\n",
      "INFO:tensorflow:Restoring parameters from ./models/gcloud_turn_parser_13/model.ckpt-14\n"
     ]
    }
   ],
   "source": [
    "slot_parser = SlotParser(\n",
    "    token_embeddings, label_embeddings, action_embeddings, slot_embeddings,\n",
    "    checkpoint_path = './models/gcloud_turn_parser_13/model.ckpt-14'\n",
    ")"
   ]
  },
  {
   "cell_type": "code",
   "execution_count": 9,
   "metadata": {
    "collapsed": false,
    "deletable": true,
    "editable": true
   },
   "outputs": [
    {
     "data": {
      "text/plain": [
       "({'dst_city': 'toronto', 'or_city': 'frankfurt', 'str_date': '23 august'},\n",
       " ['inform'],\n",
       " ['dst_city', 'intent', 'or_city', 'str_date'])"
      ]
     },
     "execution_count": 9,
     "metadata": {},
     "output_type": "execute_result"
    }
   ],
   "source": [
    "slot_parser.parse('I am looking for a trip to toronto from frankfurt on 23 august.')"
   ]
  },
  {
   "cell_type": "code",
   "execution_count": 97,
   "metadata": {
    "collapsed": false,
    "deletable": true,
    "editable": true
   },
   "outputs": [
    {
     "name": "stdout",
     "output_type": "stream",
     "text": [
      "{'constraints': {'dst_city': ['Brasilia'], 'str_date': ['September 30'], 'end_date': ['October 4'], 'or_city': ['Portland'], 'budget': ['2000']}, 'requests': []}\n",
      "Portland\n",
      "Where would you like to go from?\n",
      "{} ['request'] ['dst_city', 'or_city']\n",
      "(1, 'What about Portland to Brasilia?')\n",
      "Do you have any dates in mind?\n",
      "{} ['request'] ['end_date', 'str_date']\n",
      "(1, 'Between September 30 and October 4.')\n",
      "I can give you a 5 day stay in havana hotel for 1200 usd. Does that work?\n",
      "{'duration': '5 day', 'dst_city': 'havana', 'price': '1200 usd'} ['offer'] ['<NO_SLOT>', 'dst_city', 'duration', 'price']\n"
     ]
    },
    {
     "ename": "TypeError",
     "evalue": "'NoneType' object is not iterable",
     "output_type": "error",
     "traceback": [
      "\u001b[0;31m---------------------------------------------------------------------------\u001b[0m",
      "\u001b[0;31mTypeError\u001b[0m                                 Traceback (most recent call last)",
      "\u001b[0;32m<ipython-input-97-8373c553f04b>\u001b[0m in \u001b[0;36m<module>\u001b[0;34m()\u001b[0m\n\u001b[1;32m    146\u001b[0m \u001b[0;34m\u001b[0m\u001b[0m\n\u001b[1;32m    147\u001b[0m \u001b[0;32mwhile\u001b[0m \u001b[0;32mTrue\u001b[0m\u001b[0;34m:\u001b[0m\u001b[0;34m\u001b[0m\u001b[0m\n\u001b[0;32m--> 148\u001b[0;31m     \u001b[0mprint\u001b[0m\u001b[0;34m(\u001b[0m\u001b[0msim\u001b[0m\u001b[0;34m.\u001b[0m\u001b[0mnext_message\u001b[0m\u001b[0;34m(\u001b[0m\u001b[0minput\u001b[0m\u001b[0;34m(\u001b[0m\u001b[0;34m)\u001b[0m\u001b[0;34m)\u001b[0m\u001b[0;34m)\u001b[0m\u001b[0;34m\u001b[0m\u001b[0m\n\u001b[0m",
      "\u001b[0;32m<ipython-input-97-8373c553f04b>\u001b[0m in \u001b[0;36mnext_message\u001b[0;34m(self, agent_response)\u001b[0m\n\u001b[1;32m    129\u001b[0m     \u001b[0;32mdef\u001b[0m \u001b[0mnext_message\u001b[0m\u001b[0;34m(\u001b[0m\u001b[0mself\u001b[0m\u001b[0;34m,\u001b[0m \u001b[0magent_response\u001b[0m\u001b[0;34m)\u001b[0m\u001b[0;34m:\u001b[0m\u001b[0;34m\u001b[0m\u001b[0m\n\u001b[1;32m    130\u001b[0m         \u001b[0mparser_result\u001b[0m \u001b[0;34m=\u001b[0m \u001b[0mself\u001b[0m\u001b[0;34m.\u001b[0m\u001b[0m_slot_parser\u001b[0m\u001b[0;34m.\u001b[0m\u001b[0mparse\u001b[0m\u001b[0;34m(\u001b[0m\u001b[0magent_response\u001b[0m\u001b[0;34m)\u001b[0m\u001b[0;34m\u001b[0m\u001b[0m\n\u001b[0;32m--> 131\u001b[0;31m         \u001b[0mactions\u001b[0m\u001b[0;34m,\u001b[0m \u001b[0mslots\u001b[0m \u001b[0;34m=\u001b[0m \u001b[0mself\u001b[0m\u001b[0;34m.\u001b[0m\u001b[0m_next_action\u001b[0m\u001b[0;34m(\u001b[0m\u001b[0;34m*\u001b[0m\u001b[0mparser_result\u001b[0m\u001b[0;34m)\u001b[0m\u001b[0;34m\u001b[0m\u001b[0m\n\u001b[0m\u001b[1;32m    132\u001b[0m         \u001b[0mtemplate_key\u001b[0m \u001b[0;34m=\u001b[0m \u001b[0mself\u001b[0m\u001b[0;34m.\u001b[0m\u001b[0m_template_key\u001b[0m\u001b[0;34m(\u001b[0m\u001b[0mactions\u001b[0m\u001b[0;34m,\u001b[0m \u001b[0mslots\u001b[0m\u001b[0;34m)\u001b[0m\u001b[0;34m\u001b[0m\u001b[0m\n\u001b[1;32m    133\u001b[0m         \u001b[0mself\u001b[0m\u001b[0;34m.\u001b[0m\u001b[0m_state\u001b[0m\u001b[0;34m[\u001b[0m\u001b[0;34m'actions'\u001b[0m\u001b[0;34m]\u001b[0m\u001b[0;34m.\u001b[0m\u001b[0mappend\u001b[0m\u001b[0;34m(\u001b[0m\u001b[0;34m(\u001b[0m\u001b[0mactions\u001b[0m\u001b[0;34m,\u001b[0m \u001b[0mslots\u001b[0m\u001b[0;34m)\u001b[0m\u001b[0;34m)\u001b[0m\u001b[0;34m\u001b[0m\u001b[0m\n",
      "\u001b[0;31mTypeError\u001b[0m: 'NoneType' object is not iterable"
     ]
    }
   ],
   "source": [
    "class UserSimulator:\n",
    "    \n",
    "    INITIAL_SLOT_OPTIONS = {\n",
    "        'or_city': 1.0,\n",
    "        'dst_city': 0.8,\n",
    "        'budget': 0.5,\n",
    "        'n_adults': 0.5,\n",
    "        'n_children': 0.2\n",
    "    }\n",
    "    \n",
    "    REQUIRED_INFORM_SLOTS = [\n",
    "        'or_city', 'dst_city', 'str_date', 'end_date', 'budget'\n",
    "    ]\n",
    "    \n",
    "    REQUIRED_REQUEST_SLOTS = [\n",
    "        'price', ''\n",
    "    ]\n",
    "    \n",
    "    def __init__(self, slot_parser, dialog_templates, message_templates):\n",
    "        self._slot_parser = slot_parser\n",
    "        self._dialog_templates = dialog_templates\n",
    "        self._message_templates = message_templates\n",
    "        \n",
    "        self._state = {}\n",
    "        \n",
    "    def _has_template(self, actions, slots):\n",
    "        return self._template_key(actions, slots) in self._message_templates\n",
    "        \n",
    "    def _template_key(self, actions, slots):\n",
    "        return '&'.join(sorted(actions))+'.'+'&'.join(sorted(slots))\n",
    "    \n",
    "    def _get_template(self, key):\n",
    "        available_templates = self._message_templates[key]\n",
    "        template_idx = np.random.randint(len(available_templates))\n",
    "        return available_templates[template_idx]\n",
    "        \n",
    "    def reset(self):\n",
    "        dialog_id = np.random.randint(len(self._dialog_templates))\n",
    "        self._state = {\n",
    "            'dialog': self._dialog_templates[dialog_id],\n",
    "            'actions': [],\n",
    "            'value_pointers': {},\n",
    "        }\n",
    "        print(self._state['dialog'])\n",
    "        \n",
    "    def _slot_value_idx(self, slot):\n",
    "        if slot not in self._state['value_pointers']:\n",
    "            self._state['value_pointers'][slot] = 0\n",
    "        return self._state['value_pointers'][slot]\n",
    "        \n",
    "    def _has_slot(self, slot):\n",
    "        return slot in self._state['dialog']['constraints']\n",
    "    \n",
    "    def _has_alternative_slot_value(self, slot):\n",
    "        value_idx = self._slot_value_idx(slot)\n",
    "        return len(self._state['dialog']['constraints'][slot]) > (value_idx + 1)\n",
    "        \n",
    "    def _slot_value(self, slot):\n",
    "        return self._state['dialog']['constraints'][slot][self._slot_value_idx(slot)]\n",
    "        \n",
    "    def _slot_values(self, slots):\n",
    "        return {slot: self._slot_value(slot) for slot in slots}\n",
    "    \n",
    "    def _replace_placeholders(self, template, values):\n",
    "        for (slot, value) in values.items():\n",
    "            template = template.replace('<SLOT.'+slot+'>', value)\n",
    "        return template\n",
    "        \n",
    "    def _initial_inform_slots(self):\n",
    "        initial_slots = set()\n",
    "        constraints = self._state['dialog']['constraints']\n",
    "        for (slot, slot_p) in self.INITIAL_SLOT_OPTIONS.items():\n",
    "            if slot in constraints and constraints[slot][0] != '-1' and np.random.uniform() <= slot_p:\n",
    "                initial_slots.add(slot)\n",
    "        return initial_slots\n",
    "            \n",
    "    def initial_message(self):\n",
    "        slots = self._initial_inform_slots()\n",
    "        template_key = self._template_key(['inform'], slots)\n",
    "        self._state['actions'].append((['inform'], slots))\n",
    "        \n",
    "        return self._replace_placeholders(\n",
    "            self._get_template(template_key),\n",
    "            self._slot_values(slots)\n",
    "        )\n",
    "    \n",
    "    def _reward(self, slot_values, actions, mentioned_slots):\n",
    "        last_action = self._state['actions'][-1][0]\n",
    "        return 1\n",
    "    \n",
    "    def _request_response(self, slot_values, actions, mentioned_slots):\n",
    "        if len(mentioned_slots) == 0:\n",
    "            raise ValueError('No requested slots.')\n",
    "        \n",
    "        inform_slots = set()\n",
    "        for slot in mentioned_slots:\n",
    "            if self._has_slot(slot) and self._slot_value(slot) != '-1':\n",
    "                inform_slots.add(slot)\n",
    "        if len(inform_slots) == 0:\n",
    "            return ['negate'], []\n",
    "        else:\n",
    "            return ['inform'], list(inform_slots)\n",
    "        \n",
    "    def _offer_response(self, slot_values, actions, mentioned_slots):\n",
    "        pass\n",
    "        \n",
    "    \n",
    "    def _no_result_response(self, slot_values, actions, mentioned_slots):\n",
    "        return ['request_alts'], []\n",
    "    \n",
    "    def _suggest_response(self, slot_values, actions, mentioned_slots):\n",
    "        return ['request_alts'], []\n",
    "    \n",
    "    def _next_action(self, slot_values, actions, mentioned_slots):\n",
    "        print(slot_values, actions, mentioned_slots)\n",
    "        \n",
    "        if 'request' in actions:\n",
    "            return self._request_response(slot_values, actions, mentioned_slots)\n",
    "        \n",
    "        if 'offer' in actions:\n",
    "            return self._offer_response(slot_values, actions, mentioned_slots)\n",
    "        \n",
    "        if 'suggest' in actions:\n",
    "            return self._no_result_response(slot_values, actions, mentioned_slots)\n",
    "            \n",
    "        if 'no_result' in actions:\n",
    "            return self._suggest_response(slot_values, actions, mentioned_slots)\n",
    "    \n",
    "    def next_message(self, agent_response):\n",
    "        parser_result = self._slot_parser.parse(agent_response)\n",
    "        actions, slots = self._next_action(*parser_result)\n",
    "        template_key = self._template_key(actions, slots)\n",
    "        self._state['actions'].append((actions, slots))\n",
    "        \n",
    "        return (\n",
    "            self._reward(*parser_result),\n",
    "            self._replace_placeholders(\n",
    "                self._get_template(template_key),\n",
    "                self._slot_values(slots)\n",
    "            )\n",
    "        )\n",
    "        \n",
    "sim = UserSimulator(slot_parser, dialog_templates, message_templates)\n",
    "sim.reset()\n",
    "print(sim.initial_message())\n",
    "\n",
    "while True:\n",
    "    print(sim.next_message(input()))"
   ]
  },
  {
   "cell_type": "code",
   "execution_count": 96,
   "metadata": {
    "collapsed": false
   },
   "outputs": [
    {
     "data": {
      "text/plain": [
       "['That sounds lavish, what type of flight would that be?',\n",
       " 'what type of flight is that going to be?',\n",
       " 'and is that flight in <SLOT.seat> class?',\n",
       " 'That sounds very nice. Does the package include a <SLOT.seat> class flight?',\n",
       " 'what type of flight is that?',\n",
       " 'and what are the classes of the flights?',\n",
       " 'Will we be flying <SLOT.seat> class?',\n",
       " 'Do you know from your database whether it is an economy flight or a business class flight?',\n",
       " 'And are the flights economy or business class?',\n",
       " 'and is the price for <SLOT.seat> flights']"
      ]
     },
     "execution_count": 96,
     "metadata": {},
     "output_type": "execute_result"
    }
   ],
   "source": [
    "message_templates['request.seat']"
   ]
  }
 ],
 "metadata": {
  "kernelspec": {
   "display_name": "Python 3",
   "language": "python",
   "name": "python3"
  },
  "language_info": {
   "codemirror_mode": {
    "name": "ipython",
    "version": 3
   },
   "file_extension": ".py",
   "mimetype": "text/x-python",
   "name": "python",
   "nbconvert_exporter": "python",
   "pygments_lexer": "ipython3",
   "version": "3.6.0"
  }
 },
 "nbformat": 4,
 "nbformat_minor": 2
}
